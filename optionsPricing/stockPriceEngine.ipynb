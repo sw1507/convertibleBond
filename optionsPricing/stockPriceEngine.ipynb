{
 "cells": [
  {
   "cell_type": "code",
   "execution_count": 2,
   "metadata": {},
   "outputs": [
    {
     "name": "stdout",
     "output_type": "stream",
     "text": [
      "Welcome to use Wind Quant API for Python (WindPy)!\n",
      "\n",
      "COPYRIGHT (C) 2020 WIND INFORMATION CO., LTD. ALL RIGHTS RESERVED.\n",
      "IN NO CIRCUMSTANCE SHALL WIND BE RESPONSIBLE FOR ANY DAMAGES OR LOSSES CAUSED BY USING WIND QUANT API FOR Python.\n"
     ]
    },
    {
     "data": {
      "text/plain": [
       ".ErrorCode=0\n",
       ".Data=[OK!]"
      ]
     },
     "execution_count": 2,
     "metadata": {},
     "output_type": "execute_result"
    }
   ],
   "source": [
    "#抽象类加抽象方法就等于面向对象编程中的接口\n",
    "from abc import ABCMeta,abstractmethod\n",
    "from math import exp, sqrt\n",
    "from random import gauss\n",
    "from WindPy import w\n",
    "import datetime\n",
    "w.start()"
   ]
  },
  {
   "cell_type": "code",
   "execution_count": 3,
   "metadata": {},
   "outputs": [],
   "source": [
    "class StockPriceEngine(object):\n",
    "    __metaclass__ = ABCMeta #指定这是一个抽象类\n",
    "    @abstractmethod  #抽象方法\n",
    "    def getPrice(self):\n",
    "        pass"
   ]
  },
  {
   "cell_type": "code",
   "execution_count": 4,
   "metadata": {},
   "outputs": [],
   "source": [
    "class WindData(StockPriceEngine):\n",
    "    def __init__(self, startDate, endDate, stockCode):    \n",
    "        self.startDate = startDate\n",
    "        self.endDate = endDate\n",
    "        self.stockCode = stockCode    \n",
    "    \n",
    "    def getPrice(self):\n",
    "        \"\"\"\n",
    "        获取某个指数某一段时间的收盘价格，返回值为WindData\n",
    "\n",
    "        参数：startDate：起始日期，字符串格式\n",
    "               endDate：终止日期，字符串格式\n",
    "             benchmark：需要查询的指数或者股票代码，字符串格式\n",
    "\n",
    "        返回值：WindData，e.g.\n",
    "              .ErrorCode=0\n",
    "              .Codes=[000905.SH]\n",
    "              .Fields=[CLOSE]\n",
    "              .Times=[20201201,20201202,20201203,20201204,20201207,20201208,20201209,20201210,20201211]\n",
    "              .Data=[[6426.6155,6434.9791,6440.8808,6464.7345,6424.6823,6423.6513,6307.2207,6320.0956,6209.427]]\n",
    "        \"\"\"\n",
    "        w.isconnected()\n",
    "        closingData = w.wsd(self.stockCode, \"close\", self.startDate, self.endDate, \"\").Data[0]\n",
    "        return closingData"
   ]
  },
  {
   "cell_type": "code",
   "execution_count": 6,
   "metadata": {},
   "outputs": [],
   "source": [
    "class MonteCarlo(StockPriceEngine):\n",
    "    results = []\n",
    "    \n",
    "    def __init__(self, stockCode, firstClosingPrice, riskFreeRate, tradingDaysPerYear, stockVolatility, numberOfSimulation, dateList):    \n",
    "        self.stockCode = stockCode\n",
    "        self.firstClosingPrice = firstClosingPrice\n",
    "        self.riskFreeRate = riskFreeRate\n",
    "        self.tradingDaysPerYear = tradingDaysPerYear\n",
    "        self.stockVolatility = stockVolatility\n",
    "        self.numberOfSimulation = numberOfSimulation\n",
    "        self.dateList = dateList\n",
    "    \n",
    "    def getPrice(self):\n",
    "        for i in range(0, self.numberOfSimulation):\n",
    "            result = self.getOnePredict(self.stockCode, self.firstClosingPrice, self.dateList, \n",
    "                                        self.riskFreeRate, self.tradingDaysPerYear, self.stockVolatility)\n",
    "            self.results.append(result)\n",
    "        return self.results     \n",
    "    \n",
    "    def getOnePredict(self, stockCode, firstClosingPrice, dateList, riskFreeRate, tradingDaysPerYear, stockVolatility):\n",
    "        \"\"\"\n",
    "        对于某股票/指数，获取其在某一段时间每一天的预测价格\n",
    "        stockCode：股票/指数代码\n",
    "        firstClosingPrice：要预测的时间段，第一天的收盘价，取自wind\n",
    "        dateList：要预测的时间段（包含上述的第一天）\n",
    "        riskFreeRate：无风险利率\n",
    "        tradingDaysPerYear：一年交易日天数\n",
    "        \"\"\"\n",
    "        result = [firstClosingPrice]\n",
    "        previousDayClosingPrice = firstClosingPrice\n",
    "\n",
    "        for dateIndex in range(1, len(dateList)):\n",
    "            testingDate_dt = dateList[dateIndex]\n",
    "            predictedPrice = self.calculate_S_T(previousDayClosingPrice, self.stockVolatility, self.riskFreeRate, 1 / 365)\n",
    "            result.append(predictedPrice)\n",
    "            previousDayClosingPrice = predictedPrice\n",
    "        return result\n",
    "    \n",
    "    def calculate_S_T(self, stockClosingPrice, stockPriceVolatility, riskFreeRate, daysToExpire):\n",
    "        \"\"\"模拟epsilon，计算S_T\n",
    "        stockClosingPrice：测试当日的标的价格\n",
    "        \"\"\"\n",
    "        return stockClosingPrice * exp((riskFreeRate - 0.5 * stockPriceVolatility ** 2) * daysToExpire + \n",
    "                                       stockPriceVolatility * sqrt(daysToExpire) * gauss(0.0, 1.0))"
   ]
  },
  {
   "cell_type": "code",
   "execution_count": 1,
   "metadata": {},
   "outputs": [],
   "source": [
    "# \"\"\"test\"\"\"\n",
    "# STOCK_CODE = \"000905.SH\"\n",
    "\n",
    "# \"\"\"无风险利率 2020年国债一年期利率加权\"\"\"#http://www.chinamoney.com.cn/chinese/sddsintigy/\n",
    "# RISK_FREE_RATE = 2.1927 / 100\n",
    "\n",
    "# \"\"\"蒙特卡洛模拟次数\"\"\"\n",
    "# SIMULATIONS = 100000\n",
    "\n",
    "# \"\"\"一年交易日天数\"\"\"\n",
    "# TRADING_DATES_PER_YEAR = 240\n",
    "\n",
    "# \"\"\"获取期权交易日序列\"\"\"\n",
    "\n",
    "# OPTION_START_DATE = \"2020-06-23\"\n",
    "# OPTION_STRIKE_DATE = \"2021-03-05\"\n",
    "# dateList = w.tdays(OPTION_START_DATE, OPTION_STRIKE_DATE, \"\").Data[0]\n",
    "\n",
    "# priceEngineObj1 = MonteCarlo(STOCK_CODE, 3000, RISK_FREE_RATE, TRADING_DATES_PER_YEAR, 0.02, 100, dateList)\n",
    "# priceEngineObj1.getPrice()\n",
    "\n",
    "# priceEngineObj2 = WindData(OPTION_START_DATE, OPTION_STRIKE_DATE, STOCK_CODE)\n",
    "# priceEngineObj2.getPrice()"
   ]
  },
  {
   "cell_type": "code",
   "execution_count": null,
   "metadata": {},
   "outputs": [],
   "source": []
  },
  {
   "cell_type": "code",
   "execution_count": null,
   "metadata": {},
   "outputs": [],
   "source": []
  }
 ],
 "metadata": {
  "kernelspec": {
   "display_name": "Python 3",
   "language": "python",
   "name": "python3"
  },
  "language_info": {
   "codemirror_mode": {
    "name": "ipython",
    "version": 3
   },
   "file_extension": ".py",
   "mimetype": "text/x-python",
   "name": "python",
   "nbconvert_exporter": "python",
   "pygments_lexer": "ipython3",
   "version": "3.7.0"
  }
 },
 "nbformat": 4,
 "nbformat_minor": 2
}
