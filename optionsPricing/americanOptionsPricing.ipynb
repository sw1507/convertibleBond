{
 "cells": [
  {
   "cell_type": "code",
   "execution_count": 1,
   "metadata": {},
   "outputs": [
    {
     "name": "stdout",
     "output_type": "stream",
     "text": [
      "Welcome to use Wind Quant API for Python (WindPy)!\n",
      "\n",
      "COPYRIGHT (C) 2020 WIND INFORMATION CO., LTD. ALL RIGHTS RESERVED.\n",
      "IN NO CIRCUMSTANCE SHALL WIND BE RESPONSIBLE FOR ANY DAMAGES OR LOSSES CAUSED BY USING WIND QUANT API FOR Python.\n"
     ]
    },
    {
     "data": {
      "text/plain": [
       ".ErrorCode=0\n",
       ".Data=[OK!]"
      ]
     },
     "execution_count": 1,
     "metadata": {},
     "output_type": "execute_result"
    }
   ],
   "source": [
    "import pandas as pd\n",
    "import numpy as np\n",
    "from random import gauss\n",
    "from math import exp, sqrt\n",
    "import math\n",
    "import datetime\n",
    "from numpy import *\n",
    "import matplotlib.pyplot as plt\n",
    "import collections\n",
    "from WindPy import w\n",
    "w.start()"
   ]
  },
  {
   "cell_type": "code",
   "execution_count": 2,
   "metadata": {},
   "outputs": [],
   "source": [
    "# class TreeNode:\n",
    "#     def __init__(self, stockPrice = 0, left = None, right = None,leftParent = None, rightParent = None):\n",
    "#         self.stockPrice = stockPrice\n",
    "#         self.left = left\n",
    "#         self.right = right\n",
    "#         self.leftParent = leftParent\n",
    "#         self.rightParent = rightParent"
   ]
  },
  {
   "cell_type": "code",
   "execution_count": 3,
   "metadata": {},
   "outputs": [],
   "source": [
    "# node1 = TreeNode(1)\n",
    "# node2 = TreeNode(2)\n",
    "# node4 = TreeNode(5)\n",
    "# node5 = TreeNode(6)\n",
    "# node6 = TreeNode(right = node1)\n",
    "# node6.right.val"
   ]
  },
  {
   "cell_type": "code",
   "execution_count": 4,
   "metadata": {},
   "outputs": [],
   "source": [
    "def getFactors(riskFreeRate, dt, volatility):\n",
    "    \"\"\"\n",
    "    计算标的价格向上，向下走的的两个价格因子\n",
    "    返回list\n",
    "    \"\"\"\n",
    "    return [math.exp(riskFreeRate * dt + volatility * sqrt(dt)), math.exp(riskFreeRate * dt - volatility * sqrt(dt))]"
   ]
  },
  {
   "cell_type": "code",
   "execution_count": 5,
   "metadata": {},
   "outputs": [],
   "source": [
    "def getProbabilities(riskFreeRate, dt, factors):\n",
    "    \"\"\"\n",
    "    计算标的价格向上，向下走的概率\n",
    "    返回list\n",
    "    \"\"\"\n",
    "    goUp = (math.exp(riskFreeRate * dt) - factors[1]) / (factors[0] - factors[1])\n",
    "    goDown = 1 - goUp\n",
    "    return [goUp, goDown]"
   ]
  },
  {
   "cell_type": "code",
   "execution_count": 6,
   "metadata": {},
   "outputs": [],
   "source": [
    "def getStockPriceAtEachNode(initialStockPrice, tradingDays):\n",
    "    \"\"\"\n",
    "    计算每一个节点上的标的价格（根据价格因子计算）\n",
    "    例，初始价1，向上向下因子为1.2和0.8，则下一阶段的两个方向走势价格为1.2*1和0.8*1\n",
    "    \"\"\"\n",
    "    allResults = []\n",
    "    rootLevel = [{\"标的价格\":initialStockPrice}]\n",
    "    allResults.append(rootLevel)\n",
    "    previousLevel = rootLevel\n",
    "    for level in range(1, tradingDays):\n",
    "        currentLevelResult = generateOneLevelResult(previousLevel, goUpFactor, goDownFactor)\n",
    "        allResults.append(currentLevelResult)\n",
    "        previousLevel = currentLevelResult\n",
    "    return allResults"
   ]
  },
  {
   "cell_type": "code",
   "execution_count": 7,
   "metadata": {},
   "outputs": [],
   "source": [
    "def generateOneLevelResult(previousLevel, upFactor, downFactor):\n",
    "    \"\"\"\n",
    "    计算每一个节点上的标的价格（根据价格因子计算），根据前一层价格计算下一层价格\n",
    "    例，初始价1，向上向下因子为1.2和0.8，则下一阶段的两个方向走势价格为1.2*1和0.8*1\n",
    "    \"\"\"\n",
    "    result = []\n",
    "    result.append({\"标的价格\":previousLevel[0][\"标的价格\"] * downFactor})\n",
    "    for i in range(0, len(previousLevel)):\n",
    "        childValue = previousLevel[i][\"标的价格\"] * upFactor\n",
    "        result.append({\"标的价格\":childValue})\n",
    "    return result"
   ]
  },
  {
   "cell_type": "code",
   "execution_count": 8,
   "metadata": {},
   "outputs": [],
   "source": [
    "def calculatePayOffAtEachNode(strikingPrice, optionType, tree):\n",
    "    \"\"\"\n",
    "    计算每一个node上的payoff\n",
    "    payoff计算公式：payoff（put）= max(strike - price, 0)\n",
    "                  payoff(call) = max(price - strike, 0)\n",
    "    \"\"\"\n",
    "    \n",
    "    for i in range(0, len(tree)):\n",
    "        for node in tree[i]:\n",
    "            if(optionType == \"CALL\"):\n",
    "                payOff = max(node[\"标的价格\"] - strikingPrice, 0)\n",
    "            else:\n",
    "                payOff = max(strikingPrice - node[\"标的价格\"], 0)\n",
    "            node[\"payoff\"] = payOff"
   ]
  },
  {
   "cell_type": "code",
   "execution_count": 9,
   "metadata": {},
   "outputs": [],
   "source": [
    "def calculateMaxPayoffAtEachNode(riskFreeRate, dt, goUpProb, goDownProb, tree):\n",
    "    \"\"\"\n",
    "    计算每一个节点上的最大payoff\n",
    "    计算逻辑：比较当前节点payoff，与下一个时间节点上产生的向上与向下价格走势节点上的payoff按向上向下概率的权重计算加总，再折线到当前时间节点，的较大者\n",
    "            即当前节点行权的收益，与当前不行权，选择到下一个节点再行权的收益折线，两者较大者，为当前节点的最大收益。\n",
    "    计算公式：MAX(当前节点payoff,(下一个时间点价格向上走的payoff*价格增长的概率+下一个时间点价格向下走的payoff*标的价格下降的概率)*EXP(-无风险利率*1/tradingdays-1))\n",
    "    \"\"\"\n",
    "    numberOfLevel = len(tree)\n",
    "    for node in tree[len(tree) - 1]:\n",
    "        node[\"最大回报\"] = node[\"payoff\"]\n",
    "    \n",
    "    for level in range(numberOfLevel-1, -1, -1):\n",
    "        currentLevel = tree[level]\n",
    "        for i in range(0, len(currentLevel)):\n",
    "            if(level == numberOfLevel - 1):\n",
    "                maxPayoff = currentLevel[i][\"payoff\"]\n",
    "            else:\n",
    "                oneLevelDownList = tree[level + 1]\n",
    "                maxPayoff = max(currentLevel[i][\"payoff\"], \n",
    "                                (oneLevelDownList[i][\"最大回报\"] * goDownProb + oneLevelDownList[i + 1][\"最大回报\"] * goUpProb) * exp(-riskFreeRate * dt))\n",
    "            currentLevel[i][\"最大回报\"] = maxPayoff"
   ]
  },
  {
   "cell_type": "code",
   "execution_count": 10,
   "metadata": {},
   "outputs": [],
   "source": [
    "def printAll(result):\n",
    "    for i in range(0, len(result)):\n",
    "        print(\"第\" + str(i) + \"行\")\n",
    "        for j in result[i]:\n",
    "            print(j)"
   ]
  },
  {
   "cell_type": "code",
   "execution_count": 11,
   "metadata": {},
   "outputs": [
    {
     "name": "stdout",
     "output_type": "stream",
     "text": [
      "二叉树方法美式期权定价结果：0.11284074749471591\n"
     ]
    }
   ],
   "source": [
    "\"\"\"参数设置\"\"\"\n",
    "INITIAL_STOCK_PRICE = 1\n",
    "VOLATILITY = 0.3\n",
    "RISK_FREE_RATE = 0.05\n",
    "STRIKING_PRICE = 1.05\n",
    "TRADING_DAYS = 5\n",
    "NUMBER_OF_PERIOD = TRADING_DAYS - 1\n",
    "dt = 1/NUMBER_OF_PERIOD\n",
    "OPTION_TYPE = \"CALL\"\n",
    "\n",
    "factors = getFactors(RISK_FREE_RATE, dt, VOLATILITY)\n",
    "goUpFactor = factors[0]\n",
    "goDownFactor = factors[1]\n",
    "\n",
    "probabilities = getProbabilities(RISK_FREE_RATE, dt, factors)\n",
    "goUpProb = probabilities[0]\n",
    "goDownProb = probabilities[1]\n",
    "\n",
    "\"\"\"建立二叉树，计算每个node上的标的价格\"\"\"\n",
    "tree = getStockPriceAtEachNode(INITIAL_STOCK_PRICE, TRADING_DAYS)\n",
    "\n",
    "\"\"\"计算每个node上的payoff\"\"\"\n",
    "calculatePayOffAtEachNode(STRIKING_PRICE, OPTION_TYPE, tree)\n",
    "\n",
    "\"\"\"计算每个node上的最大payoff\"\"\"\n",
    "calculateMaxPayoffAtEachNode(RISK_FREE_RATE, dt, goUpProb, goDownProb, tree)\n",
    "# printAll(tree)\n",
    "print(\"二叉树方法美式期权定价结果：\" + str(tree[0][0][\"最大回报\"]))"
   ]
  },
  {
   "cell_type": "code",
   "execution_count": 16,
   "metadata": {},
   "outputs": [],
   "source": [
    "# root = TreeNode(INITIAL_STOCK_PRICE)\n",
    "# root.left = TreeNode(root.stockPrice * goDownFactor, rightParent = root)\n",
    "# root.right = TreeNode(root.stockPrice * goUpFactor, leftParent = root)\n",
    "\n",
    "# #初始化一个queue，把二叉树第二层两个数放进去\n",
    "# queue = collections.deque()\n",
    "# queue.append(root.left)\n",
    "# queue.append(root.right)\n",
    "\n",
    "# numberOfParent = len(queue)\n",
    "\n",
    "# #level：parent所在的层数， 第n层有n个parent node\n",
    "# # for level in range(2, TRADING_DAYS):\n",
    "# firstNodeInLevel = queue.popleft()\n",
    "\n",
    "# #生成第一个子节点\n",
    "# childNode1 = TreeNode(firstNodeInLevel.stockPrice * goDownFactor)\n",
    "# queue.appendleft(firstNodeInLevel)\n",
    "\n",
    "# #生成其他的子节点, 当前层为level，即有level个parent，要生成一共（level+1）个子节点，已生成2个,还需要生成（level-1）个\n",
    "# previousNode = childNode1\n",
    "\n",
    "# numberOfChildGenerated = 1\n",
    "# while(len(queue) < TRADING_DAYS):\n",
    "#     print(len(queue))\n",
    "    \n",
    "#     currentParentNode = queue.popleft()\n",
    "#     newChildNode = TreeNode(currentParentNode.stockPrice * goUpFactor, leftParent = currentParentNode)\n",
    "#     numberOfChildGenerated += 1\n",
    "    \n",
    "#     currentParentNode.left = previousNode\n",
    "#     currentParentNode.right = newChildNode\n",
    "#     previousNode.rightParent = currentParentNode\n",
    "    \n",
    "#     queue.append(previousNode)\n",
    "#     previousNode = newChildNode\n",
    "        "
   ]
  },
  {
   "cell_type": "code",
   "execution_count": 15,
   "metadata": {},
   "outputs": [
    {
     "name": "stderr",
     "output_type": "stream",
     "text": [
      "C:\\Users\\wangsu\\AppData\\Local\\Continuum\\anaconda3\\lib\\site-packages\\scipy\\stats\\stats.py:1394: UserWarning: kurtosistest only valid for n>=20 ... continuing anyway, n=8\n",
      "  \"anyway, n=%i\" % int(n))\n"
     ]
    },
    {
     "data": {
      "text/html": [
       "<table class=\"simpletable\">\n",
       "<caption>OLS Regression Results</caption>\n",
       "<tr>\n",
       "  <th>Dep. Variable:</th>            <td>y</td>        <th>  R-squared:         </th> <td>   0.391</td>\n",
       "</tr>\n",
       "<tr>\n",
       "  <th>Model:</th>                   <td>OLS</td>       <th>  Adj. R-squared:    </th> <td>   0.304</td>\n",
       "</tr>\n",
       "<tr>\n",
       "  <th>Method:</th>             <td>Least Squares</td>  <th>  F-statistic:       </th> <td>   4.500</td>\n",
       "</tr>\n",
       "<tr>\n",
       "  <th>Date:</th>             <td>Sun, 07 Feb 2021</td> <th>  Prob (F-statistic):</th>  <td>0.0716</td> \n",
       "</tr>\n",
       "<tr>\n",
       "  <th>Time:</th>                 <td>17:14:21</td>     <th>  Log-Likelihood:    </th> <td>  9.2735</td>\n",
       "</tr>\n",
       "<tr>\n",
       "  <th>No. Observations:</th>      <td>     8</td>      <th>  AIC:               </th> <td>  -16.55</td>\n",
       "</tr>\n",
       "<tr>\n",
       "  <th>Df Residuals:</th>          <td>     7</td>      <th>  BIC:               </th> <td>  -16.47</td>\n",
       "</tr>\n",
       "<tr>\n",
       "  <th>Df Model:</th>              <td>     1</td>      <th>                     </th>     <td> </td>   \n",
       "</tr>\n",
       "<tr>\n",
       "  <th>Covariance Type:</th>      <td>nonrobust</td>    <th>                     </th>     <td> </td>   \n",
       "</tr>\n",
       "</table>\n",
       "<table class=\"simpletable\">\n",
       "<tr>\n",
       "   <td></td>     <th>coef</th>     <th>std err</th>      <th>t</th>      <th>P>|t|</th>  <th>[0.025</th>    <th>0.975]</th>  \n",
       "</tr>\n",
       "<tr>\n",
       "  <th>x1</th> <td>    0.0477</td> <td>    0.023</td> <td>    2.121</td> <td> 0.072</td> <td>   -0.005</td> <td>    0.101</td>\n",
       "</tr>\n",
       "</table>\n",
       "<table class=\"simpletable\">\n",
       "<tr>\n",
       "  <th>Omnibus:</th>       <td> 1.250</td> <th>  Durbin-Watson:     </th> <td>   2.277</td>\n",
       "</tr>\n",
       "<tr>\n",
       "  <th>Prob(Omnibus):</th> <td> 0.535</td> <th>  Jarque-Bera (JB):  </th> <td>   0.822</td>\n",
       "</tr>\n",
       "<tr>\n",
       "  <th>Skew:</th>          <td> 0.666</td> <th>  Prob(JB):          </th> <td>   0.663</td>\n",
       "</tr>\n",
       "<tr>\n",
       "  <th>Kurtosis:</th>      <td> 2.168</td> <th>  Cond. No.          </th> <td>    1.00</td>\n",
       "</tr>\n",
       "</table><br/><br/>Warnings:<br/>[1] Standard Errors assume that the covariance matrix of the errors is correctly specified."
      ],
      "text/plain": [
       "<class 'statsmodels.iolib.summary.Summary'>\n",
       "\"\"\"\n",
       "                            OLS Regression Results                            \n",
       "==============================================================================\n",
       "Dep. Variable:                      y   R-squared:                       0.391\n",
       "Model:                            OLS   Adj. R-squared:                  0.304\n",
       "Method:                 Least Squares   F-statistic:                     4.500\n",
       "Date:                Sun, 07 Feb 2021   Prob (F-statistic):             0.0716\n",
       "Time:                        17:14:21   Log-Likelihood:                 9.2735\n",
       "No. Observations:                   8   AIC:                            -16.55\n",
       "Df Residuals:                       7   BIC:                            -16.47\n",
       "Df Model:                           1                                         \n",
       "Covariance Type:            nonrobust                                         \n",
       "==============================================================================\n",
       "                 coef    std err          t      P>|t|      [0.025      0.975]\n",
       "------------------------------------------------------------------------------\n",
       "x1             0.0477      0.023      2.121      0.072      -0.005       0.101\n",
       "==============================================================================\n",
       "Omnibus:                        1.250   Durbin-Watson:                   2.277\n",
       "Prob(Omnibus):                  0.535   Jarque-Bera (JB):                0.822\n",
       "Skew:                           0.666   Prob(JB):                        0.663\n",
       "Kurtosis:                       2.168   Cond. No.                         1.00\n",
       "==============================================================================\n",
       "\n",
       "Warnings:\n",
       "[1] Standard Errors assume that the covariance matrix of the errors is correctly specified.\n",
       "\"\"\""
      ]
     },
     "execution_count": 15,
     "metadata": {},
     "output_type": "execute_result"
    }
   ],
   "source": [
    "\n",
    "import matplotlib.pyplot as plt\n",
    "import statsmodels.api as sm \n",
    "\n",
    "X = [1.08, 1.26, 1.07, 1.97, 1.56, 0.77, 0.84, 1.22]\n",
    "y = [0, 0, 0.0659232,0.1695168, 0, 0.188352, 0.0847584, 0]\n",
    "model = sm.OLS(y,X)\n",
    "results = model.fit()\n",
    "results.summary()"
   ]
  }
 ],
 "metadata": {
  "kernelspec": {
   "display_name": "Python 3",
   "language": "python",
   "name": "python3"
  },
  "language_info": {
   "codemirror_mode": {
    "name": "ipython",
    "version": 3
   },
   "file_extension": ".py",
   "mimetype": "text/x-python",
   "name": "python",
   "nbconvert_exporter": "python",
   "pygments_lexer": "ipython3",
   "version": "3.7.0"
  }
 },
 "nbformat": 4,
 "nbformat_minor": 2
}
