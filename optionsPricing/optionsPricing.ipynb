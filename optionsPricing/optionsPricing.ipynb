{
 "cells": [
  {
   "cell_type": "code",
   "execution_count": 1,
   "metadata": {},
   "outputs": [
    {
     "name": "stdout",
     "output_type": "stream",
     "text": [
      "Welcome to use Wind Quant API for Python (WindPy)!\n",
      "\n",
      "COPYRIGHT (C) 2020 WIND INFORMATION CO., LTD. ALL RIGHTS RESERVED.\n",
      "IN NO CIRCUMSTANCE SHALL WIND BE RESPONSIBLE FOR ANY DAMAGES OR LOSSES CAUSED BY USING WIND QUANT API FOR Python.\n"
     ]
    },
    {
     "data": {
      "text/plain": [
       ".ErrorCode=0\n",
       ".Data=[OK!]"
      ]
     },
     "execution_count": 1,
     "metadata": {},
     "output_type": "execute_result"
    }
   ],
   "source": [
    "import pandas as pd\n",
    "import numpy as np\n",
    "from random import gauss\n",
    "from math import exp, sqrt\n",
    "import math\n",
    "import datetime\n",
    "import matplotlib.pyplot as plt\n",
    "from WindPy import w\n",
    "w.start()"
   ]
  },
  {
   "cell_type": "code",
   "execution_count": 2,
   "metadata": {},
   "outputs": [],
   "source": [
    "def getDatesList(beginningDate, endingDate):\n",
    "    \"\"\"\n",
    "    获取日期序列，return a list of dates\n",
    "\n",
    "    参数：\n",
    "        起始日期，终止日期\n",
    "        \n",
    "    返回值：\n",
    "        这段日期的交易日，格式为list\n",
    "    \"\"\"\n",
    "    #从wind获取datetime列表\n",
    "    w.isconnected()\n",
    "    \n",
    "    #日期list\n",
    "    datesListInDatetime = w.tdays(beginningDate, endingDate, \"\").Data[0]\n",
    "    return datesListInDatetime"
   ]
  },
  {
   "cell_type": "code",
   "execution_count": 3,
   "metadata": {},
   "outputs": [],
   "source": [
    "def getStockData(startDate, endDate, stockCode):\n",
    "    \"\"\"\n",
    "    获取某个指数某一段时间的收盘价格，返回值为WindData\n",
    "\n",
    "    参数：startDate：起始日期，字符串格式\n",
    "           endDate：终止日期，字符串格式\n",
    "         benchmark：需要查询的指数或者股票代码，字符串格式\n",
    "\n",
    "    返回值：WindData，e.g.\n",
    "          .ErrorCode=0\n",
    "          .Codes=[000905.SH]\n",
    "          .Fields=[CLOSE]\n",
    "          .Times=[20201201,20201202,20201203,20201204,20201207,20201208,20201209,20201210,20201211]\n",
    "          .Data=[[6426.6155,6434.9791,6440.8808,6464.7345,6424.6823,6423.6513,6307.2207,6320.0956,6209.427]]\n",
    "    \"\"\"\n",
    "    w.isconnected()\n",
    "    closingData = w.wsd(stockCode, \"close\", startDate, endDate, \"\")\n",
    "    return closingData"
   ]
  },
  {
   "cell_type": "code",
   "execution_count": 4,
   "metadata": {},
   "outputs": [],
   "source": [
    "def calculateStockPriceVolatility(stockCode, startDate, endDate, tradingDaysPerYear):\n",
    "    \"\"\"\n",
    "    计算标的在一段时间内的年化波动率\n",
    "    stockCode: 标的代码\n",
    "    startDate: 开始日期\n",
    "    endDate: 结束日期\n",
    "    tradingDaysPerYear: 一年交易日天数\n",
    "    \"\"\"\n",
    "    closingPrice = getStockData(startDate, endDate, stockCode).Data[0]\n",
    "    \n",
    "    dailyReturn = [0]\n",
    "    continuousCompoundReturn = [0]\n",
    "    for i in range(1, len(closingPrice)):\n",
    "        dailyReturn.append(closingPrice[i] / closingPrice[i - 1])\n",
    "        continuousCompoundReturn.append(math.log(dailyReturn[i]))\n",
    "    \n",
    "    continuousCompoundReturnAvg = sum(continuousCompoundReturn) / len(closingPrice) # miu\n",
    "    \n",
    "    # calculate (LN(R) - miu) ^ 2\n",
    "    thetaFangList = [0]\n",
    "    for j in continuousCompoundReturn:\n",
    "        thetaFangList.append(pow(j - continuousCompoundReturnAvg, 2))\n",
    "    variance =  sum(thetaFangList) / (len(closingPrice) - 1) # 样本方差theta^2\n",
    "    standardDeviation = pow(variance, 0.5)   #标准差，即波动率\n",
    "    annualVolatility = standardDeviation * sqrt(tradingDaysPerYear)\n",
    "    return annualVolatility"
   ]
  },
  {
   "cell_type": "code",
   "execution_count": 5,
   "metadata": {},
   "outputs": [],
   "source": [
    "def calculate_S_T(stockClosingPrice, stockPriceVolatility, riskFreeRate, daysToExpire):\n",
    "    \"\"\"模拟epsilon，计算S_T\n",
    "    stockClosingPrice：测试当日的标的价格\n",
    "    \"\"\"\n",
    "    return stockClosingPrice * exp((riskFreeRate - 0.5 * stockPriceVolatility ** 2) * daysToExpire + stockPriceVolatility * sqrt(daysToExpire) * gauss(0.0, 1.0))"
   ]
  },
  {
   "cell_type": "code",
   "execution_count": 6,
   "metadata": {},
   "outputs": [],
   "source": [
    "def option_payoff(flag, S_T, strkingPrice):\n",
    "    \"\"\"期权收益\"\"\"\n",
    "    if flag.lower() == 'call':\n",
    "        return max(S_T - strkingPrice, 0.0)\n",
    "    else:\n",
    "        return max(strkingPrice - S_T, 0.0)"
   ]
  },
  {
   "cell_type": "code",
   "execution_count": 7,
   "metadata": {},
   "outputs": [],
   "source": [
    "def option_price(flag, stockClosingPrice, riskFreeRate, daysToExpire, stockPriceVolatility, strkingPrice, simulations):\n",
    "    \"\"\"模拟\n",
    "    flag： call/put\n",
    "    stockClosingPrice：测试日当日的标的收盘价\n",
    "    riskFreeRate: 无风险利率\n",
    "    daysToExpire：期权距离到期的天数\n",
    "    stockPriceVolatility: 波动率\n",
    "    strkingPrice: 期权行权价\n",
    "    simulations: 蒙特卡洛模拟次数\n",
    "    \"\"\"\n",
    "    payoffs = []\n",
    "    discout = exp(-riskFreeRate * daysToExpire)\n",
    "    for i in range(simulations):\n",
    "        S_T = calculate_S_T(stockClosingPrice, stockPriceVolatility, riskFreeRate, daysToExpire)\n",
    "        payoffs.append(\n",
    "            option_payoff(flag, S_T, strkingPrice)\n",
    "        )\n",
    "    price = discout * sum(payoffs) / float(simulations)\n",
    "    return price"
   ]
  },
  {
   "cell_type": "code",
   "execution_count": 8,
   "metadata": {},
   "outputs": [],
   "source": [
    "def drawLineChartActualOptionPriceVsCalculatedPrice(x_data, y_data1, data1Name, y_data2, data2Name):\n",
    "    \"\"\"\n",
    "    画折线图，比较定价结果和实际期权价格\n",
    "    \"\"\"\n",
    "    #解决中文显示问题\n",
    "    plt.rcParams['font.sans-serif']=['SimHei']\n",
    "    plt.rcParams['axes.unicode_minus'] = False\n",
    "    \n",
    "    plt.plot(x_data, y_data1, color = 'red',linewidth = 2.0, label = data1Name)\n",
    "    plt.plot(x_data, y_data2, color = 'blue',linewidth = 3.0, label = data2Name)\n",
    "    \n",
    "    plt.xlabel('日期')\n",
    "    plt.ylabel('价格')\n",
    "    plt.title('期权定价与实际价格对比')\n",
    "    plt.xticks(rotation = 30)          \n",
    "    plt.legend()\n",
    "    \n",
    "    plt.show()"
   ]
  },
  {
   "cell_type": "code",
   "execution_count": 9,
   "metadata": {},
   "outputs": [],
   "source": [
    "def getOnePredictionLine(beginningDate, endingDate, stockCode, riskFreeRate):\n",
    "    beginningDateClosingPrice = getClosingPrice(stockCode)\n",
    "    oneLine = [beginningNumber]\n",
    "    stockPriceVolatility = calculateStockPriceVolatility(stockCode, testingDate_dt + datetime.timedelta(days = -365), \n",
    "                                                         testingDate_dt + datetime.timedelta(days = -1), TRADING_DATES_PER_YEAR)\n",
    "    \n",
    "    for testingDate_dt in allTradingDays_dt:\n",
    "        calculate_S_T(beginningDateClosingPrice, stockPriceVolatility, riskFreeRate, 1)"
   ]
  },
  {
   "cell_type": "code",
   "execution_count": 10,
   "metadata": {},
   "outputs": [],
   "source": [
    "def getPredictedStockClosingPrice(stockClosingPrice, stockPriceVolatility, riskFreeRate, daysToExpire):\n",
    "    \"\"\"\n",
    "    已知t日标的收盘价，t日往前一年的收盘价算出的波动率，无风险利率，以及t日至T日的天数，计算T日标的价格\n",
    "    \n",
    "    \"\"\""
   ]
  },
  {
   "cell_type": "code",
   "execution_count": 11,
   "metadata": {},
   "outputs": [],
   "source": [
    "# #===========参数设置================#\n",
    "# RISK_FREE_RATE = 2.9000 / 100\n",
    "# EXPIRE_DATE = \"2021-03-19\"\n",
    "# TODAY_DATE = \"2020-12-04\"\n",
    "\n",
    "# EXPIRE_DATE_dt = datetime.datetime.strptime(EXPIRE_DATE, '%Y-%m-%d')\n",
    "# TODAY_DATE_dt = datetime.datetime.strptime(TODAY_DATE, '%Y-%m-%d')\n",
    "                                \n",
    "# DAYS_TO_EXPIRE = ((EXPIRE_DATE_dt - TODAY_DATE_dt).days)/365\n",
    "# STOCK_CODE = \"000300.SH\"\n",
    "# SIMULATIONS = 500000\n",
    "# tradingPerYear = 240\n",
    "\n",
    "# # 从START_DATE 到END_DATE 计算这段时间的volatility\n",
    "# END_DATE_dt = TODAY_DATE_dt + datetime.timedelta(days = -1)\n",
    "# START_DATE_dt = END_DATE_dt + datetime.timedelta(days = -365)\n",
    "\n",
    "# END_DATE = END_DATE_dt.strftime('%Y-%m-%d')\n",
    "# START_DATE = START_DATE_dt.strftime('%Y-%m-%d')\n",
    "\n",
    "# STOCK_CLOSING_PRICE_DATE = END_DATE\n",
    "\n",
    "# # 执行价格\n",
    "# # STRIKING_PRICE = w.wss(STOCK_CODE, \"close\",\"tradeDate=20200623;priceAdj=U;cycle=D\").Data[0][0]\n",
    "# STRIKING_PRICE = 4500\n",
    "# STOCK_CLOSING_PRICE = w.wss(STOCK_CODE, \"close\", \"tradeDate=\" + END_DATE + \";priceAdj=U;cycle=D\").Data[0][0]\n",
    "# FLAG = \"call\"\n",
    "\n",
    "# stockPriceVolatility = calculateStockPriceVolatility(STOCK_CODE, START_DATE, END_DATE, tradingPerYear)\n",
    "\n",
    "\n",
    "# result = option_price(FLAG, STOCK_CLOSING_PRICE, RISK_FREE_RATE, DAYS_TO_EXPIRE, stockPriceVolatility, STRIKING_PRICE, SIMULATIONS)\n",
    "# # print(option_price('call', STOCK_CLOSING_PRICE, RISK_FREE_RATE, DAYS_TO_EXPIRE, stockPriceVolatility, STRIKING_PRICE, SIMULATION))\n",
    "# # print(option_price('put', STOCK_CLOSING_PRICE, RISK_FREE_RATE, DAYS_TO_EXPIRE, stockPriceVolatility, STRIKING_PRICE, SIMULATIONS))\n",
    "# # St = calculate_S_T(STOCK_CLOSING_PRICE, stockPriceVolatility, RISK_FREE_RATE, DAYS_TO_EXPIRE)\n",
    "# result"
   ]
  },
  {
   "cell_type": "code",
   "execution_count": 12,
   "metadata": {},
   "outputs": [
    {
     "name": "stdout",
     "output_type": "stream",
     "text": [
      "2020-08-24的定价已计算: 603.8733692742479\n",
      "2020-08-25的定价已计算: 608.3680216910706\n",
      "2020-08-26的定价已计算: 558.097297412017\n",
      "2020-08-27的定价已计算: 579.7556315687764\n",
      "2020-08-28的定价已计算: 682.2154763574009\n",
      "2020-08-31的定价已计算: 655.4221874487708\n",
      "2020-09-01的定价已计算: 677.8137825804183\n",
      "2020-09-02的定价已计算: 678.7491838424993\n",
      "2020-09-03的定价已计算: 653.0090903568388\n",
      "2020-09-04的定价已计算: 609.6154940387419\n",
      "2020-09-07的定价已计算: 515.978721978865\n",
      "2020-09-08的定价已计算: 538.3939528670942\n",
      "2020-09-09的定价已计算: 440.632892678719\n",
      "2020-09-10的定价已计算: 439.6791461589136\n",
      "2020-09-11的定价已计算: 477.0964245183016\n",
      "2020-09-14的定价已计算: 495.6372675441945\n",
      "2020-09-15的定价已计算: 526.8821401439169\n",
      "2020-09-16的定价已计算: 497.7475431760206\n",
      "2020-09-17的定价已计算: 476.15177235315\n",
      "2020-09-18的定价已计算: 568.9186540812077\n",
      "2020-09-21的定价已计算: 526.3440717428999\n",
      "2020-09-22的定价已计算: 474.3799378394556\n",
      "2020-09-23的定价已计算: 488.3982068055478\n",
      "2020-09-24的定价已计算: 409.0382635953231\n",
      "2020-09-25的定价已计算: 414.0510901001134\n",
      "2020-09-28的定价已计算: 421.4835817838283\n",
      "2020-09-29的定价已计算: 428.87472356908523\n",
      "2020-09-30的定价已计算: 424.4322042937121\n",
      "2020-10-09的定价已计算: 501.5442714385773\n",
      "2020-10-12的定价已计算: 636.2466281099996\n",
      "2020-10-13的定价已计算: 652.2189056372894\n",
      "2020-10-14的定价已计算: 619.857782849065\n",
      "2020-10-15的定价已计算: 611.3289322004437\n",
      "2020-10-16的定价已计算: 604.6212607444686\n",
      "2020-10-19的定价已计算: 567.0836251521613\n",
      "2020-10-20的定价已计算: 604.3524485041962\n",
      "2020-10-21的定价已计算: 602.8020795725023\n",
      "2020-10-22的定价已计算: 587.2750780446423\n",
      "2020-10-23的定价已计算: 528.6785385673472\n",
      "2020-10-26的定价已计算: 500.19206365455483\n",
      "2020-10-27的定价已计算: 507.6637358728425\n",
      "2020-10-28的定价已计算: 544.8585074543099\n",
      "2020-10-29的定价已计算: 579.6035151141049\n",
      "2020-10-30的定价已计算: 502.3553710854189\n",
      "2020-11-02的定价已计算: 526.2250666074697\n",
      "2020-11-03的定价已计算: 582.2634700784586\n",
      "2020-11-04的定价已计算: 617.9606061153785\n",
      "2020-11-05的定价已计算: 689.3980047441149\n",
      "2020-11-06的定价已计算: 689.7082122688886\n",
      "2020-11-09的定价已计算: 784.4590515428187\n",
      "2020-11-10的定价已计算: 756.6920317909303\n",
      "2020-11-11的定价已计算: 707.2725242029645\n",
      "2020-11-12的定价已计算: 710.6408933514062\n",
      "2020-11-13的定价已计算: 658.657199285414\n",
      "2020-11-16的定价已计算: 705.3955957907976\n",
      "2020-11-17的定价已计算: 695.3977742309463\n",
      "2020-11-18的定价已计算: 692.1437108446704\n",
      "2020-11-19的定价已计算: 728.2133105933382\n",
      "2020-11-20的定价已计算: 743.2882000120851\n"
     ]
    },
    {
     "data": {
      "image/png": "[encoded data removed]",
      "text/plain": [
       "<Figure size 432x288 with 1 Axes>"
      ]
     },
     "metadata": {
      "needs_background": "light"
     },
     "output_type": "display_data"
    }
   ],
   "source": [
    "\"\"\"测试测试测试！！！\"\"\"\n",
    "\n",
    "\"\"\"测试的期权信息：\n",
    "沪深300指数期权2011C4200\n",
    "上市日：2020-08-24\n",
    "到期日：2020-11-20\n",
    "行权价：4200\n",
    "\n",
    "对8.24 - 11.20的期权价格进行定价，\n",
    "\"\"\"\n",
    "\n",
    "\"\"\"期权参数设置，需要手动填写\"\"\"\n",
    "OPTION_CODE = \"IO2011-C-4200.CFE\"\n",
    "STOCK_CODE = \"000300.SH\"\n",
    "RISK_FREE_RATE = 2.3529 / 100\n",
    "SIMULATIONS = 1000000\n",
    "TRADING_DATES_PER_YEAR = 240\n",
    "\n",
    "\"\"\"获取期权开始和到期日\"\"\"\n",
    "optionData = w.wss(OPTION_CODE, \"startdate, exe_enddate, exe_price, exe_mode\").Data #获取期权开始和到期日，行权价格\n",
    "OPTION_START_DATE_dt = optionData[0][0]\n",
    "OPTION_STRIKE_DATE_dt = optionData[1][0]\n",
    "\n",
    "OPTION_START_DATE = OPTION_START_DATE_dt.strftime('%Y-%m-%d')\n",
    "OPTION_STRIKE_DATE = OPTION_STRIKE_DATE_dt.strftime('%Y-%m-%d')\n",
    "\n",
    "allTradingDays_dt = w.tdays(OPTION_START_DATE_dt, OPTION_STRIKE_DATE_dt, \"\").Data[0]\n",
    "\n",
    "\"\"\"获取期权的行权方式，结果为认购/认沽\"\"\"\n",
    "FLAG = \"CALL\"\n",
    "if(optionData[3][0] == \"认沽\"):\n",
    "    FLAG = \"PUT\"\n",
    "\n",
    "\"\"\"获取期权行权价格\"\"\"\n",
    "STRIKING_PRICE = optionData[2][0]\n",
    "\n",
    "\"\"\"获取期权上市期间每一天的实际收盘价\"\"\"\n",
    "optionClosingPrice = w.wsd(OPTION_CODE, \"close\", OPTION_START_DATE, OPTION_STRIKE_DATE, \"\").Data[0] #获取期权在某一段时间的收盘价\n",
    "\n",
    "\"\"\"创建测试价格list用来存每一天的定价结果\"\"\"\n",
    "testingPriceResults = []\n",
    "\n",
    "for testingDate_dt in allTradingDays_dt:\n",
    "    stockClosingPrice = w.wsd(\"000300.SH\", \"close\", testingDate_dt, testingDate_dt, \"\").Data[0][0]\n",
    "    daysToExpire = (OPTION_STRIKE_DATE_dt - testingDate_dt).days / 365\n",
    "    stockPriceVolatility = calculateStockPriceVolatility(STOCK_CODE, testingDate_dt + datetime.timedelta(days = -365), \n",
    "                                                         testingDate_dt + datetime.timedelta(days = -1), TRADING_DATES_PER_YEAR)\n",
    "#     print(testingDate_dt.strftime('%Y-%m-%d') + \" 沪深300收盘价：\" + str(stockClosingPrice) + \" 无风险利率： \" + \n",
    "#           str(RISK_FREE_RATE) + \" 剩余天数：\" + str(daysToExpire) + \" 波动率： \" + str(stockPriceVolatility))\n",
    "    optionPriceCalculated = option_price(FLAG, stockClosingPrice, RISK_FREE_RATE, daysToExpire, stockPriceVolatility, STRIKING_PRICE, SIMULATIONS)\n",
    "    testingPriceResults.append(optionPriceCalculated)\n",
    "    print(testingDate_dt.strftime('%Y-%m-%d') + \"的定价已计算: \" + str(optionPriceCalculated))\n",
    "    \n",
    "    \n",
    "testingPriceResults    \n",
    "\"\"\"画折线图，比较定价结果和实际期权价格\"\"\"\n",
    "drawLineChartActualOptionPriceVsCalculatedPrice(allTradingDays_dt, optionClosingPrice, \"actual price\", testingPriceResults, \"pricing price\")    "
   ]
  },
  {
   "cell_type": "code",
   "execution_count": null,
   "metadata": {},
   "outputs": [],
   "source": []
  },
  {
   "cell_type": "markdown",
   "metadata": {},
   "source": [
    "# 文字解释部分"
   ]
  },
  {
   "cell_type": "markdown",
   "metadata": {},
   "source": [
    "以每股苹果股票为标的的期权定价例子：\n",
    "\n",
    "https://zhuanlan.zhihu.com/p/134759744\n",
    "\n",
    "用19.4.23 - 20.4.23的股价计算波动率，\n",
    "\n",
    "谷歌得到一年期的无风险利率r=0.16%\n",
    "\n",
    "找出苹果公司期权的最新报价。即还有58天到期的期权\n",
    "\n",
    "距离行权日还有T年（如果是n“天”，那么把n化成n/365年），到期日标的资产价格为 S(T)，标的资产行权价格为K，那么在行权日T时刻，期权的价格为：\n",
    "\n",
    "Call option： C(T) = max(0, S(T) - K)\n",
    "\n",
    "Put option：  P(T) = max(0, K - S(T))\n",
    "\n",
    "使用蒙卡模拟进行期权定价，需要在风险中性环境中（风险中性定价原则认为1、标的资产的预期收益率=无风险利率，2、从而对未来的现金流进行无风险利率折现\n",
    "\n",
    "因此在第t日，期权的价格为距离到期日T的预期收益折现值\n",
    "\n",
    "![](optionPricingEquation.png)\n",
    "\n",
    "接下来，我们需要对股价S(T)进行模拟。在BS模型中，股价服从几何布朗运动，推导得到\n",
    "\n",
    "![](optionPricingEquation2.png)\n",
    "\n",
    "\n"
   ]
  },
  {
   "cell_type": "markdown",
   "metadata": {},
   "source": [
    "Reference:\n",
    "\n",
    "Code and Finance 2 蒙特卡洛模拟期权定价 - 苹果公司例子 https://zhuanlan.zhihu.com/p/134759744\n",
    "\n",
    "场外期权系列——鲨鱼鳍期权的蒙特卡洛定价 https://zhuanlan.zhihu.com/p/163862299?utm_source=wechat_session\n",
    "\n",
    "鲨鱼鳍期权定价、风险对冲和理财产品 https://www.gfedu.cn/aqf/content_22650.shtml\n",
    "\n",
    "兴业证券 - 鲨鱼鳍期权及其理财产品 http://www.doc88.com/p-9082540939123.html\n",
    "\n",
    "场外期权系列——鲨鱼鳍期权的蒙特卡洛定价 https://www.jianshu.com/p/5d4bf6e7d426\n",
    "\n",
    "沪深300期权价格\n",
    "http://www.cffex.com.cn/hs300gzqq/\n",
    "\n",
    "暨南大学论文：http://www.doc88.com/p-9965019376435.html\n",
    "\n",
    "入门期权隐含波动率计算 https://zhuanlan.zhihu.com/p/139521048\n",
    "\n",
    "\n",
    "https://zhuanlan.zhihu.com/p/24482145"
   ]
  },
  {
   "cell_type": "code",
   "execution_count": 1,
   "metadata": {},
   "outputs": [
    {
     "ename": "ModuleNotFoundError",
     "evalue": "No module named 'longstaffLeastSquares'",
     "output_type": "error",
     "traceback": [
      "\u001b[1;31m---------------------------------------------------------------------------\u001b[0m",
      "\u001b[1;31mModuleNotFoundError\u001b[0m                       Traceback (most recent call last)",
      "\u001b[1;32m<ipython-input-1-949623924241>\u001b[0m in \u001b[0;36m<module>\u001b[1;34m()\u001b[0m\n\u001b[1;32m----> 1\u001b[1;33m \u001b[1;32mfrom\u001b[0m \u001b[0mlongstaffLeastSquares\u001b[0m \u001b[1;32mimport\u001b[0m \u001b[0moption\u001b[0m\u001b[1;33m\u001b[0m\u001b[0m\n\u001b[0m",
      "\u001b[1;31mModuleNotFoundError\u001b[0m: No module named 'longstaffLeastSquares'"
     ]
    }
   ],
   "source": []
  },
  {
   "cell_type": "code",
   "execution_count": null,
   "metadata": {},
   "outputs": [],
   "source": []
  }
 ],
 "metadata": {
  "kernelspec": {
   "display_name": "Python 3",
   "language": "python",
   "name": "python3"
  },
  "language_info": {
   "codemirror_mode": {
    "name": "ipython",
    "version": 3
   },
   "file_extension": ".py",
   "mimetype": "text/x-python",
   "name": "python",
   "nbconvert_exporter": "python",
   "pygments_lexer": "ipython3",
   "version": "3.7.0"
  }
 },
 "nbformat": 4,
 "nbformat_minor": 2
}
