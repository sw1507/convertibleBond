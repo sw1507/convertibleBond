{
 "cells": [
  {
   "cell_type": "code",
   "execution_count": 1,
   "metadata": {},
   "outputs": [
    {
     "name": "stdout",
     "output_type": "stream",
     "text": [
      "Welcome to use Wind Quant API for Python (WindPy)!\n",
      "\n",
      "COPYRIGHT (C) 2020 WIND INFORMATION CO., LTD. ALL RIGHTS RESERVED.\n",
      "IN NO CIRCUMSTANCE SHALL WIND BE RESPONSIBLE FOR ANY DAMAGES OR LOSSES CAUSED BY USING WIND QUANT API FOR Python.\n"
     ]
    },
    {
     "data": {
      "text/plain": [
       ".ErrorCode=0\n",
       ".Data=[OK!]"
      ]
     },
     "execution_count": 1,
     "metadata": {},
     "output_type": "execute_result"
    }
   ],
   "source": [
    "from abc import ABCMeta,abstractmethod\n",
    "import Ipynb_importer\n",
    "from WindPy import w\n",
    "import math\n",
    "from math import exp, sqrt\n",
    "w.start()"
   ]
  },
  {
   "cell_type": "code",
   "execution_count": 2,
   "metadata": {},
   "outputs": [],
   "source": [
    "class StockVolatility(object):\n",
    "    __metaclass__ = ABCMeta #抽象类\n",
    "    @abstractmethod  #抽象方法\n",
    "    def getVolatility(self):\n",
    "        pass"
   ]
  },
  {
   "cell_type": "code",
   "execution_count": 3,
   "metadata": {},
   "outputs": [],
   "source": [
    "class HistoricalVolatility(StockVolatility):\n",
    "    \n",
    "    def __init__(self, stockCode, tradingDaysPerYear, startDate, endDate):    \n",
    "        self.stockCode = stockCode\n",
    "        self.tradingDaysPerYear = tradingDaysPerYear\n",
    "        self.startDate = startDate\n",
    "        self.endDate = endDate\n",
    "\n",
    "    def getVolatility(self):\n",
    "        \"\"\"\n",
    "        计算标的在一段时间内的年化波动率\n",
    "        stockCode: 标的代码\n",
    "        startDate: 开始日期\n",
    "        endDate: 结束日期\n",
    "        tradingDaysPerYear: 一年交易日天数\n",
    "        \"\"\"\n",
    "        closingPrice = w.wsd(self.stockCode, \"close\", self.startDate, self.endDate, \"\").Data[0]\n",
    "\n",
    "        dailyReturn = [0]\n",
    "        continuousCompoundReturn = [0]\n",
    "        for i in range(1, len(closingPrice)):\n",
    "            dailyReturn.append(closingPrice[i] / closingPrice[i - 1])\n",
    "            continuousCompoundReturn.append(math.log(dailyReturn[i]))\n",
    "\n",
    "        continuousCompoundReturnAvg = sum(continuousCompoundReturn) / len(closingPrice) # miu\n",
    "\n",
    "        # calculate (LN(R) - miu) ^ 2\n",
    "        thetaFangList = [0]\n",
    "        for j in continuousCompoundReturn:\n",
    "            thetaFangList.append(pow(j - continuousCompoundReturnAvg, 2))\n",
    "        variance =  sum(thetaFangList) / (len(closingPrice) - 1) # 样本方差theta^2\n",
    "        standardDeviation = pow(variance, 0.5)   #标准差，即波动率\n",
    "        annualVolatility = standardDeviation * sqrt(self.tradingDaysPerYear)\n",
    "        return annualVolatility"
   ]
  },
  {
   "cell_type": "code",
   "execution_count": 4,
   "metadata": {},
   "outputs": [
    {
     "data": {
      "text/plain": [
       "0.21521726624603071"
      ]
     },
     "execution_count": 4,
     "metadata": {},
     "output_type": "execute_result"
    }
   ],
   "source": [
    "\"\"\"Test\"\"\"\n",
    "OPTION_START_DATE = \"2020-06-23\"\n",
    "OPTION_STRIKE_DATE = \"2021-03-15\"\n",
    "STOCK_CODE = \"000905.SH\"\n",
    "TRADING_DATES_PER_YEAR = 240\n",
    "testObj = HistoricalVolatility(STOCK_CODE, TRADING_DATES_PER_YEAR, OPTION_START_DATE, OPTION_STRIKE_DATE)\n",
    "testObj.getVolatility()"
   ]
  },
  {
   "cell_type": "code",
   "execution_count": null,
   "metadata": {},
   "outputs": [],
   "source": []
  }
 ],
 "metadata": {
  "kernelspec": {
   "display_name": "Python 3",
   "language": "python",
   "name": "python3"
  },
  "language_info": {
   "codemirror_mode": {
    "name": "ipython",
    "version": 3
   },
   "file_extension": ".py",
   "mimetype": "text/x-python",
   "name": "python",
   "nbconvert_exporter": "python",
   "pygments_lexer": "ipython3",
   "version": "3.7.0"
  }
 },
 "nbformat": 4,
 "nbformat_minor": 2
}
