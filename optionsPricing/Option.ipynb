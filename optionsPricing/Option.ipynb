{
 "cells": [
  {
   "cell_type": "code",
   "execution_count": 2,
   "metadata": {},
   "outputs": [],
   "source": [
    "from abc import ABCMeta,abstractmethod"
   ]
  },
  {
   "cell_type": "code",
   "execution_count": 3,
   "metadata": {},
   "outputs": [],
   "source": [
    "class Option(object):\n",
    "    __metaclass__ = ABCMeta #指定这是一个抽象类\n",
    "    @abstractmethod  #抽象方法\n",
    "    def option_payoff(self):\n",
    "        pass"
   ]
  },
  {
   "cell_type": "code",
   "execution_count": 8,
   "metadata": {},
   "outputs": [],
   "source": [
    "class OrdinaryOption:   \n",
    "    def __init__(self, optionType, strikingPrice, startDate = \"\", endDate = \"\", stockCode = \"\", optionCode = \"\"):\n",
    "        self.optionType = optionType\n",
    "        self.strikingPrice = strikingPrice\n",
    "        self.startDate = startDate\n",
    "        self.endDate = endDate\n",
    "        self.stockCode = stockCode\n",
    "        self.optionCode = optionCode\n",
    "    \n",
    "    def option_payoff(self, stockPrice):\n",
    "        \"\"\"计算期权收益\"\"\"\n",
    "        if self.optionType.lower() == 'call':\n",
    "            return max(stockPrice - self.strikingPrice, 0.0)\n",
    "        else:\n",
    "            return max(self.strikingPrice - stockPrice, 0.0)"
   ]
  },
  {
   "cell_type": "code",
   "execution_count": 11,
   "metadata": {},
   "outputs": [],
   "source": [
    "# testobj = OrdinaryOption(\"call\", 3000, \"20200917\", \"20201231\", \"000300.SH\")\n",
    "# testobj.option_payoff(3200)"
   ]
  },
  {
   "cell_type": "code",
   "execution_count": null,
   "metadata": {},
   "outputs": [],
   "source": []
  }
 ],
 "metadata": {
  "kernelspec": {
   "display_name": "Python 3",
   "language": "python",
   "name": "python3"
  },
  "language_info": {
   "codemirror_mode": {
    "name": "ipython",
    "version": 3
   },
   "file_extension": ".py",
   "mimetype": "text/x-python",
   "name": "python",
   "nbconvert_exporter": "python",
   "pygments_lexer": "ipython3",
   "version": "3.7.0"
  }
 },
 "nbformat": 4,
 "nbformat_minor": 2
}
